{
  "nbformat": 4,
  "nbformat_minor": 0,
  "metadata": {
    "colab": {
      "provenance": []
    },
    "kernelspec": {
      "name": "python3",
      "display_name": "Python 3"
    },
    "language_info": {
      "name": "python"
    }
  },
  "cells": [
    {
      "cell_type": "code",
      "execution_count": 25,
      "metadata": {
        "id": "j1AWbMNAsUmr"
      },
      "outputs": [],
      "source": [
        "# ATM Interface"
      ]
    },
    {
      "cell_type": "code",
      "source": [
        "# Function to display the main menu\n",
        "def display_menu():\n",
        "    print(\"Welcome to the ATM!\")\n",
        "    print(\"1. Withdraw Money\")\n",
        "    print(\"2. Deposit Money\")\n",
        "    print(\"3. Check Balance\")\n",
        "    print(\"4. Transaction History\")\n",
        "    print(\"5. Exit\")"
      ],
      "metadata": {
        "id": "626YStSAS6-g"
      },
      "execution_count": null,
      "outputs": []
    },
    {
      "cell_type": "code",
      "source": [
        "# Function to handle withdrawal\n",
        "def amount(balance):\n",
        "    amount = float(input(\"Enter the amount to withdraw: \"))\n",
        "    if amount <= balance:\n",
        "        balance -= amount\n",
        "        print(\"Withdrawal successful!\")\n",
        "    else:\n",
        "        print(\"Insufficient funds!\")\n",
        "\n",
        "    return balance"
      ],
      "metadata": {
        "id": "umyXRHggLvJd"
      },
      "execution_count": null,
      "outputs": []
    },
    {
      "cell_type": "code",
      "source": [
        "# Function to handle deposit\n",
        "def deposit_money(balance):\n",
        "    amount = float(input(\"Enter the amount to deposit: \"))\n",
        "    balance += amount\n",
        "    print(\"Deposit successful!\")\n",
        "\n",
        "    return balance\n"
      ],
      "metadata": {
        "id": "JkH7U8i1L8s7"
      },
      "execution_count": null,
      "outputs": []
    },
    {
      "cell_type": "code",
      "source": [
        "# Function to check balance\n",
        "def check_balance(balance):\n",
        "    print(\"Your current balance is: $\", balance)\n"
      ],
      "metadata": {
        "id": "CQnw6O-5MB65"
      },
      "execution_count": null,
      "outputs": []
    },
    {
      "cell_type": "code",
      "source": [
        "# Function to display transaction history\n",
        "def display_history(history):\n",
        "    for transaction in history:\n",
        "        print(transaction)\n",
        "\n",
        "# Function to add a transaction to the history\n",
        "def add_transaction(history, transaction):\n",
        "    history.append(transaction)\n",
        "\n",
        "# Main function\n",
        "def main():\n",
        "    balance = 0.0\n",
        "    history = []\n",
        "    while True:\n",
        "        display_menu()\n",
        "        choice = input(\"Enter your choice: \")\n",
        "\n",
        "        if choice == \"1\":\n",
        "            balance = amount(balance)\n",
        "        elif choice == \"2\":\n",
        "            balance = deposit_money(balance)\n",
        "        elif choice == \"3\":\n",
        "            check_balance(balance)\n",
        "        elif choice == \"4\":\n",
        "            display_history(history)\n",
        "        elif choice == \"5\":\n",
        "            print(\"Thank you for using the ATM!\")\n",
        "            break\n",
        "        else:\n",
        "            print(\"Invalid choice. Please enter a valid number (1-5).\")\n",
        "\n",
        "\n",
        "if __name__ == \"__main__\":\n",
        "    main()"
      ],
      "metadata": {
        "colab": {
          "base_uri": "https://localhost:8080/"
        },
        "id": "lUiX3c-aZlba",
        "outputId": "36b599d3-3f22-4b21-9ff9-d2f56aa2ac5e"
      },
      "execution_count": 32,
      "outputs": [
        {
          "output_type": "stream",
          "name": "stdout",
          "text": [
            "Welcome to the ATM!\n",
            "1. Withdraw Money\n",
            "2. Deposit Money\n",
            "3. Check Balance\n",
            "4. Transaction History\n",
            "5. Exit\n",
            "Enter your choice: 2\n",
            "Enter the amount to deposit: 20\n",
            "Deposit successful!\n",
            "Welcome to the ATM!\n",
            "1. Withdraw Money\n",
            "2. Deposit Money\n",
            "3. Check Balance\n",
            "4. Transaction History\n",
            "5. Exit\n",
            "Enter your choice: 1\n",
            "Enter the amount to withdraw: 5\n",
            "Withdrawal successful!\n",
            "Welcome to the ATM!\n",
            "1. Withdraw Money\n",
            "2. Deposit Money\n",
            "3. Check Balance\n",
            "4. Transaction History\n",
            "5. Exit\n",
            "Enter your choice: 3\n",
            "Your current balance is: $ 15.0\n",
            "Welcome to the ATM!\n",
            "1. Withdraw Money\n",
            "2. Deposit Money\n",
            "3. Check Balance\n",
            "4. Transaction History\n",
            "5. Exit\n",
            "Enter your choice: 4\n",
            "Welcome to the ATM!\n",
            "1. Withdraw Money\n",
            "2. Deposit Money\n",
            "3. Check Balance\n",
            "4. Transaction History\n",
            "5. Exit\n",
            "Enter your choice: 5\n",
            "Thank you for using the ATM!\n"
          ]
        }
      ]
    }
  ]
}